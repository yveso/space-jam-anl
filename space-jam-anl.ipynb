{
 "metadata": {
  "language_info": {
   "codemirror_mode": {
    "name": "ipython",
    "version": 3
   },
   "file_extension": ".py",
   "mimetype": "text/x-python",
   "name": "python",
   "nbconvert_exporter": "python",
   "pygments_lexer": "ipython3",
   "version": "3.7.6"
  },
  "orig_nbformat": 2,
  "kernelspec": {
   "name": "python376jvsc74a57bd0b4e617e8e793a813c2f1b13da01c6ce2d05af565e7645e1cb4aee42ef0cf538b",
   "display_name": "Python 3.7.6 64-bit"
  }
 },
 "nbformat": 4,
 "nbformat_minor": 2,
 "cells": [
  {
   "cell_type": "code",
   "execution_count": 1,
   "metadata": {},
   "outputs": [],
   "source": [
    "import pandas as pd"
   ]
  },
  {
   "cell_type": "code",
   "execution_count": 2,
   "metadata": {},
   "outputs": [
    {
     "output_type": "execute_result",
     "data": {
      "text/plain": [
       "   ID  points  possessions  team_pace  Unnamed: 4  Unnamed: 5    GP   MPG  \\\n",
       "0   1  1893.0       1251.8       97.8         NaN         NaN  63.0  33.9   \n",
       "1   2  1386.0       1282.5      110.5         NaN         NaN  58.0  32.5   \n",
       "2   3  1405.0       1252.3      105.8         NaN         NaN  55.0  36.3   \n",
       "3   4  1282.0       1235.9      100.7         NaN         NaN  54.0  37.6   \n",
       "4   5  1721.0       1254.0      105.7         NaN         NaN  59.0  30.5   \n",
       "\n",
       "     TS%   AST    TO   USG  ORR   DRR  REBR    PER  \n",
       "0  0.569  17.2  11.5  26.1  4.7  23.3   7.8  10.90  \n",
       "1  0.511  24.8   9.7  26.9  6.1   0.9  10.7  27.30  \n",
       "2  0.605  25.7  13.9  28.1  4.5   4.9   1.8    NaN  \n",
       "3  0.636  29.5  11.0  22.3  4.8   4.6   5.6  22.35  \n",
       "4  0.589  22.8   9.9  24.6  1.2   8.4  12.1  28.38  "
      ],
      "text/html": "<div>\n<style scoped>\n    .dataframe tbody tr th:only-of-type {\n        vertical-align: middle;\n    }\n\n    .dataframe tbody tr th {\n        vertical-align: top;\n    }\n\n    .dataframe thead th {\n        text-align: right;\n    }\n</style>\n<table border=\"1\" class=\"dataframe\">\n  <thead>\n    <tr style=\"text-align: right;\">\n      <th></th>\n      <th>ID</th>\n      <th>points</th>\n      <th>possessions</th>\n      <th>team_pace</th>\n      <th>Unnamed: 4</th>\n      <th>Unnamed: 5</th>\n      <th>GP</th>\n      <th>MPG</th>\n      <th>TS%</th>\n      <th>AST</th>\n      <th>TO</th>\n      <th>USG</th>\n      <th>ORR</th>\n      <th>DRR</th>\n      <th>REBR</th>\n      <th>PER</th>\n    </tr>\n  </thead>\n  <tbody>\n    <tr>\n      <th>0</th>\n      <td>1</td>\n      <td>1893.0</td>\n      <td>1251.8</td>\n      <td>97.8</td>\n      <td>NaN</td>\n      <td>NaN</td>\n      <td>63.0</td>\n      <td>33.9</td>\n      <td>0.569</td>\n      <td>17.2</td>\n      <td>11.5</td>\n      <td>26.1</td>\n      <td>4.7</td>\n      <td>23.3</td>\n      <td>7.8</td>\n      <td>10.90</td>\n    </tr>\n    <tr>\n      <th>1</th>\n      <td>2</td>\n      <td>1386.0</td>\n      <td>1282.5</td>\n      <td>110.5</td>\n      <td>NaN</td>\n      <td>NaN</td>\n      <td>58.0</td>\n      <td>32.5</td>\n      <td>0.511</td>\n      <td>24.8</td>\n      <td>9.7</td>\n      <td>26.9</td>\n      <td>6.1</td>\n      <td>0.9</td>\n      <td>10.7</td>\n      <td>27.30</td>\n    </tr>\n    <tr>\n      <th>2</th>\n      <td>3</td>\n      <td>1405.0</td>\n      <td>1252.3</td>\n      <td>105.8</td>\n      <td>NaN</td>\n      <td>NaN</td>\n      <td>55.0</td>\n      <td>36.3</td>\n      <td>0.605</td>\n      <td>25.7</td>\n      <td>13.9</td>\n      <td>28.1</td>\n      <td>4.5</td>\n      <td>4.9</td>\n      <td>1.8</td>\n      <td>NaN</td>\n    </tr>\n    <tr>\n      <th>3</th>\n      <td>4</td>\n      <td>1282.0</td>\n      <td>1235.9</td>\n      <td>100.7</td>\n      <td>NaN</td>\n      <td>NaN</td>\n      <td>54.0</td>\n      <td>37.6</td>\n      <td>0.636</td>\n      <td>29.5</td>\n      <td>11.0</td>\n      <td>22.3</td>\n      <td>4.8</td>\n      <td>4.6</td>\n      <td>5.6</td>\n      <td>22.35</td>\n    </tr>\n    <tr>\n      <th>4</th>\n      <td>5</td>\n      <td>1721.0</td>\n      <td>1254.0</td>\n      <td>105.7</td>\n      <td>NaN</td>\n      <td>NaN</td>\n      <td>59.0</td>\n      <td>30.5</td>\n      <td>0.589</td>\n      <td>22.8</td>\n      <td>9.9</td>\n      <td>24.6</td>\n      <td>1.2</td>\n      <td>8.4</td>\n      <td>12.1</td>\n      <td>28.38</td>\n    </tr>\n  </tbody>\n</table>\n</div>"
     },
     "metadata": {},
     "execution_count": 2
    }
   ],
   "source": [
    "player_df = pd.read_csv(\"player_data.csv\")\n",
    "player_df.head()"
   ]
  },
  {
   "cell_type": "code",
   "execution_count": 3,
   "metadata": {},
   "outputs": [
    {
     "output_type": "execute_result",
     "data": {
      "text/plain": [
       "ID              0\n",
       "points          3\n",
       "possessions     3\n",
       "team_pace       3\n",
       "Unnamed: 4     46\n",
       "Unnamed: 5     46\n",
       "GP              7\n",
       "MPG             6\n",
       "TS%             1\n",
       "AST             1\n",
       "TO              1\n",
       "USG             1\n",
       "ORR             1\n",
       "DRR             1\n",
       "REBR            1\n",
       "PER            10\n",
       "dtype: int64"
      ]
     },
     "metadata": {},
     "execution_count": 3
    }
   ],
   "source": [
    "player_df.isna().sum()"
   ]
  },
  {
   "cell_type": "code",
   "execution_count": 4,
   "metadata": {},
   "outputs": [
    {
     "output_type": "stream",
     "name": "stdout",
     "text": [
      "<class 'pandas.core.frame.DataFrame'>\nRangeIndex: 46 entries, 0 to 45\nData columns (total 16 columns):\nID             46 non-null int64\npoints         43 non-null float64\npossessions    43 non-null float64\nteam_pace      43 non-null float64\nUnnamed: 4     0 non-null float64\nUnnamed: 5     0 non-null float64\nGP             39 non-null float64\nMPG            40 non-null float64\nTS%            45 non-null float64\nAST            45 non-null float64\nTO             45 non-null float64\nUSG            45 non-null float64\nORR            45 non-null float64\nDRR            45 non-null float64\nREBR           45 non-null float64\nPER            36 non-null float64\ndtypes: float64(15), int64(1)\nmemory usage: 5.9 KB\n"
     ]
    }
   ],
   "source": [
    "player_df.info()"
   ]
  },
  {
   "cell_type": "code",
   "execution_count": 6,
   "metadata": {},
   "outputs": [
    {
     "output_type": "execute_result",
     "data": {
      "text/plain": [
       "ID              0\n",
       "points          3\n",
       "possessions     3\n",
       "team_pace       3\n",
       "GP              7\n",
       "MPG             6\n",
       "TS%             1\n",
       "AST             1\n",
       "TO              1\n",
       "USG             1\n",
       "ORR             1\n",
       "DRR             1\n",
       "REBR            1\n",
       "PER            10\n",
       "dtype: int64"
      ]
     },
     "metadata": {},
     "execution_count": 6
    }
   ],
   "source": [
    "player_df.dropna(axis=\"columns\", inplace=True, how=\"all\")\n",
    "player_df.isna().sum()"
   ]
  },
  {
   "cell_type": "code",
   "execution_count": 7,
   "metadata": {},
   "outputs": [
    {
     "output_type": "execute_result",
     "data": {
      "text/plain": [
       "    ID  points  possessions  team_pace    GP   MPG    TS%   AST    TO   USG  \\\n",
       "0    1  1893.0       1251.8       97.8  63.0  33.9  0.569  17.2  11.5  26.1   \n",
       "1    2  1386.0       1282.5      110.5  58.0  32.5  0.511  24.8   9.7  26.9   \n",
       "2    3  1405.0       1252.3      105.8  55.0  36.3  0.605  25.7  13.9  28.1   \n",
       "3    4  1282.0       1235.9      100.7  54.0  37.6  0.636  29.5  11.0  22.3   \n",
       "4    5  1721.0       1254.0      105.7  59.0  30.5  0.589  22.8   9.9  24.6   \n",
       "5    6  1004.0       1322.4      102.1  57.0  36.3  0.574  20.3  13.5  31.0   \n",
       "6    7  1920.0       1207.6      109.8  55.0  37.0  0.573  26.0  13.1  30.7   \n",
       "7    8  1353.0       1348.1      112.2  57.0   NaN  0.574  24.4  11.3  26.3   \n",
       "8    9     NaN          NaN        NaN  54.0  31.7  0.577  24.6  14.4  35.7   \n",
       "9   10  1468.0       1400.9       93.7  61.0  35.6  0.547  22.9  12.2  22.7   \n",
       "10  11  1856.0       1303.8       93.4  55.0  33.6  0.563  28.9  14.7  26.7   \n",
       "11  12  1058.0       1231.5       99.4  63.0  32.8  0.550  25.1  12.9  27.2   \n",
       "12  13  1452.0       1246.1      103.6   NaN  31.7  0.584  32.4  14.7  16.5   \n",
       "13  14  1438.0       1499.6      108.1  60.0  35.0  0.569  28.6  12.2  36.2   \n",
       "14  15  1782.0       1329.0      104.6  51.0   NaN  0.590  26.5   9.9  29.7   \n",
       "15  16  1276.0       1257.5       89.7  58.0  32.8  0.572  15.5  16.2  23.8   \n",
       "16  17  1486.0       1343.6      100.6   NaN  34.9  0.603  26.2  11.1  36.7   \n",
       "17  18  1326.0       1542.0      107.8  52.0  31.8  0.583  25.3  11.7  30.6   \n",
       "18  19  1535.0       1336.2      104.0  56.0  35.4  0.636  27.2  10.8  29.9   \n",
       "19  20     NaN          NaN        NaN  57.0  34.0  0.526  28.3  11.7  25.6   \n",
       "20  21  1276.0       1354.9      101.2  50.0   NaN  0.560  21.4  12.4  28.6   \n",
       "21  22  1784.0       1287.1      101.3  59.0  33.8  0.601  27.2  12.4  21.8   \n",
       "22  23  1729.0       1205.0      103.8  61.0   NaN  0.645  20.6  13.1  31.5   \n",
       "23  24  1639.0       1287.4      105.2  52.0  35.4  0.570  32.7  15.0  26.6   \n",
       "24  25     NaN          NaN        NaN  59.0  34.9  0.578  16.9  11.8  28.7   \n",
       "25  26  1370.0       1384.7      103.3   NaN  34.2  0.571  14.8   9.9  33.1   \n",
       "26  27  1497.0       1410.9       98.3  57.0  34.1  0.613  15.4  10.0  29.3   \n",
       "27  28  1313.0       1420.5      105.0  48.0  35.1  0.569  19.0  10.9  29.2   \n",
       "28  29  1464.0       1353.4      103.3  63.0  34.4  0.595  17.9   9.2  29.3   \n",
       "29  30  1645.0       1415.7      109.8   NaN   NaN    NaN   NaN   NaN   NaN   \n",
       "30  31  2049.0       1434.0      110.0  64.0  38.8  0.619  31.5  14.9  35.5   \n",
       "31  32  1795.0       1481.8      112.1  62.0  35.4  0.608  31.9  14.5  32.0   \n",
       "32  33  1805.0       1509.9      108.6  64.0  35.4  0.622  27.9  13.9  36.0   \n",
       "33  34  1743.0       1422.4      112.9  64.0  36.3  0.619  30.9  15.6  34.5   \n",
       "34  35  1963.0       1539.1      117.4   NaN   NaN  0.633  32.3  16.2  34.0   \n",
       "35  36  2062.0       1505.7      111.5   NaN  37.0  0.620  29.8  15.6  36.2   \n",
       "36  37  1845.0       1435.7      113.1  69.0  36.9  0.634  33.2  14.0  36.5   \n",
       "37  38  1778.0       1526.4      109.3  66.0  34.9  0.612  30.6  15.9  35.9   \n",
       "38  39  1901.0       1444.1      109.7  67.0  36.5  0.609  27.2  14.8  35.5   \n",
       "39  40   183.0        147.3      118.1  63.0  37.5  0.623  31.2  13.5  34.7   \n",
       "40  41  2030.0       1431.0      112.3  68.0  37.0  0.618  32.5  15.3  34.5   \n",
       "41  42  1631.0       1465.7      110.1  66.0  37.5  0.613  28.4  14.4  35.7   \n",
       "42  43  1828.0       1507.2      112.7  64.0  36.5  0.618  31.3  14.0  34.9   \n",
       "43  44  1821.0       1443.7      118.8  66.0  36.6  0.609  27.3  13.5  35.8   \n",
       "44  45  1740.0       1443.9      114.1  68.0  37.1  0.611  26.6  15.2  29.3   \n",
       "45  46  1993.0       1459.0      112.5   NaN  36.9  0.627  30.4  15.0  33.7   \n",
       "\n",
       "    ORR   DRR  REBR    PER  \n",
       "0   4.7  23.3   7.8  10.90  \n",
       "1   6.1   0.9  10.7  27.30  \n",
       "2   4.5   4.9   1.8    NaN  \n",
       "3   4.8   4.6   5.6  22.35  \n",
       "4   1.2   8.4  12.1  28.38  \n",
       "5   1.2  20.5   3.4   9.83  \n",
       "6   0.0  10.3  -2.6   8.71  \n",
       "7   5.5   5.8  -2.2    NaN  \n",
       "8   2.5  14.1  -4.6   4.68  \n",
       "9   5.8   6.4  -2.9    NaN  \n",
       "10  1.4  17.3   4.3   9.67  \n",
       "11  2.1  12.1  11.4  22.97  \n",
       "12  3.2  19.0   4.1    NaN  \n",
       "13  4.9   6.0   7.4  27.57  \n",
       "14  3.1  29.4   5.5   9.38  \n",
       "15  3.4  15.4   6.0   9.49  \n",
       "16  3.0  14.3   5.3    NaN  \n",
       "17  3.3   9.9   5.3  19.78  \n",
       "18  0.7   5.6   7.9  30.44  \n",
       "19  3.1   4.7   1.0  11.57  \n",
       "20  2.6   9.3  10.3  24.23  \n",
       "21  2.9   5.2   9.9  25.15  \n",
       "22  4.0  12.0   5.2    NaN  \n",
       "23  1.6   5.0   9.4  25.12  \n",
       "24  2.8  14.1   3.0  12.27  \n",
       "25  2.4  16.3   3.7  15.04  \n",
       "26  3.8   5.7   6.7  25.35  \n",
       "27  4.6  17.7   5.2    NaN  \n",
       "28  1.0   8.7   4.1  20.49  \n",
       "29  NaN   NaN   NaN    NaN  \n",
       "30  8.3  17.6  12.8  28.44  \n",
       "31  6.5  22.5  12.9  23.34  \n",
       "32  5.9  27.7  12.2  22.41  \n",
       "33  5.9  18.9  14.8    NaN  \n",
       "34  5.9  19.8  13.1  27.16  \n",
       "35  4.9  23.9  14.7  27.86  \n",
       "36  4.1  21.5  16.4  34.26  \n",
       "37  5.5  18.8  13.7  28.65  \n",
       "38  5.0  21.8   8.9  20.12  \n",
       "39  6.3  18.7  13.6  29.81  \n",
       "40  5.7  15.7  13.2  30.07  \n",
       "41  6.5  20.7  14.0  28.40  \n",
       "42  5.9  21.3  14.5    NaN  \n",
       "43  7.0  23.8  11.5  22.96  \n",
       "44  8.3  17.7  11.1  21.22  \n",
       "45  6.3  19.3  14.1  28.76  "
      ],
      "text/html": "<div>\n<style scoped>\n    .dataframe tbody tr th:only-of-type {\n        vertical-align: middle;\n    }\n\n    .dataframe tbody tr th {\n        vertical-align: top;\n    }\n\n    .dataframe thead th {\n        text-align: right;\n    }\n</style>\n<table border=\"1\" class=\"dataframe\">\n  <thead>\n    <tr style=\"text-align: right;\">\n      <th></th>\n      <th>ID</th>\n      <th>points</th>\n      <th>possessions</th>\n      <th>team_pace</th>\n      <th>GP</th>\n      <th>MPG</th>\n      <th>TS%</th>\n      <th>AST</th>\n      <th>TO</th>\n      <th>USG</th>\n      <th>ORR</th>\n      <th>DRR</th>\n      <th>REBR</th>\n      <th>PER</th>\n    </tr>\n  </thead>\n  <tbody>\n    <tr>\n      <th>0</th>\n      <td>1</td>\n      <td>1893.0</td>\n      <td>1251.8</td>\n      <td>97.8</td>\n      <td>63.0</td>\n      <td>33.9</td>\n      <td>0.569</td>\n      <td>17.2</td>\n      <td>11.5</td>\n      <td>26.1</td>\n      <td>4.7</td>\n      <td>23.3</td>\n      <td>7.8</td>\n      <td>10.90</td>\n    </tr>\n    <tr>\n      <th>1</th>\n      <td>2</td>\n      <td>1386.0</td>\n      <td>1282.5</td>\n      <td>110.5</td>\n      <td>58.0</td>\n      <td>32.5</td>\n      <td>0.511</td>\n      <td>24.8</td>\n      <td>9.7</td>\n      <td>26.9</td>\n      <td>6.1</td>\n      <td>0.9</td>\n      <td>10.7</td>\n      <td>27.30</td>\n    </tr>\n    <tr>\n      <th>2</th>\n      <td>3</td>\n      <td>1405.0</td>\n      <td>1252.3</td>\n      <td>105.8</td>\n      <td>55.0</td>\n      <td>36.3</td>\n      <td>0.605</td>\n      <td>25.7</td>\n      <td>13.9</td>\n      <td>28.1</td>\n      <td>4.5</td>\n      <td>4.9</td>\n      <td>1.8</td>\n      <td>NaN</td>\n    </tr>\n    <tr>\n      <th>3</th>\n      <td>4</td>\n      <td>1282.0</td>\n      <td>1235.9</td>\n      <td>100.7</td>\n      <td>54.0</td>\n      <td>37.6</td>\n      <td>0.636</td>\n      <td>29.5</td>\n      <td>11.0</td>\n      <td>22.3</td>\n      <td>4.8</td>\n      <td>4.6</td>\n      <td>5.6</td>\n      <td>22.35</td>\n    </tr>\n    <tr>\n      <th>4</th>\n      <td>5</td>\n      <td>1721.0</td>\n      <td>1254.0</td>\n      <td>105.7</td>\n      <td>59.0</td>\n      <td>30.5</td>\n      <td>0.589</td>\n      <td>22.8</td>\n      <td>9.9</td>\n      <td>24.6</td>\n      <td>1.2</td>\n      <td>8.4</td>\n      <td>12.1</td>\n      <td>28.38</td>\n    </tr>\n    <tr>\n      <th>5</th>\n      <td>6</td>\n      <td>1004.0</td>\n      <td>1322.4</td>\n      <td>102.1</td>\n      <td>57.0</td>\n      <td>36.3</td>\n      <td>0.574</td>\n      <td>20.3</td>\n      <td>13.5</td>\n      <td>31.0</td>\n      <td>1.2</td>\n      <td>20.5</td>\n      <td>3.4</td>\n      <td>9.83</td>\n    </tr>\n    <tr>\n      <th>6</th>\n      <td>7</td>\n      <td>1920.0</td>\n      <td>1207.6</td>\n      <td>109.8</td>\n      <td>55.0</td>\n      <td>37.0</td>\n      <td>0.573</td>\n      <td>26.0</td>\n      <td>13.1</td>\n      <td>30.7</td>\n      <td>0.0</td>\n      <td>10.3</td>\n      <td>-2.6</td>\n      <td>8.71</td>\n    </tr>\n    <tr>\n      <th>7</th>\n      <td>8</td>\n      <td>1353.0</td>\n      <td>1348.1</td>\n      <td>112.2</td>\n      <td>57.0</td>\n      <td>NaN</td>\n      <td>0.574</td>\n      <td>24.4</td>\n      <td>11.3</td>\n      <td>26.3</td>\n      <td>5.5</td>\n      <td>5.8</td>\n      <td>-2.2</td>\n      <td>NaN</td>\n    </tr>\n    <tr>\n      <th>8</th>\n      <td>9</td>\n      <td>NaN</td>\n      <td>NaN</td>\n      <td>NaN</td>\n      <td>54.0</td>\n      <td>31.7</td>\n      <td>0.577</td>\n      <td>24.6</td>\n      <td>14.4</td>\n      <td>35.7</td>\n      <td>2.5</td>\n      <td>14.1</td>\n      <td>-4.6</td>\n      <td>4.68</td>\n    </tr>\n    <tr>\n      <th>9</th>\n      <td>10</td>\n      <td>1468.0</td>\n      <td>1400.9</td>\n      <td>93.7</td>\n      <td>61.0</td>\n      <td>35.6</td>\n      <td>0.547</td>\n      <td>22.9</td>\n      <td>12.2</td>\n      <td>22.7</td>\n      <td>5.8</td>\n      <td>6.4</td>\n      <td>-2.9</td>\n      <td>NaN</td>\n    </tr>\n    <tr>\n      <th>10</th>\n      <td>11</td>\n      <td>1856.0</td>\n      <td>1303.8</td>\n      <td>93.4</td>\n      <td>55.0</td>\n      <td>33.6</td>\n      <td>0.563</td>\n      <td>28.9</td>\n      <td>14.7</td>\n      <td>26.7</td>\n      <td>1.4</td>\n      <td>17.3</td>\n      <td>4.3</td>\n      <td>9.67</td>\n    </tr>\n    <tr>\n      <th>11</th>\n      <td>12</td>\n      <td>1058.0</td>\n      <td>1231.5</td>\n      <td>99.4</td>\n      <td>63.0</td>\n      <td>32.8</td>\n      <td>0.550</td>\n      <td>25.1</td>\n      <td>12.9</td>\n      <td>27.2</td>\n      <td>2.1</td>\n      <td>12.1</td>\n      <td>11.4</td>\n      <td>22.97</td>\n    </tr>\n    <tr>\n      <th>12</th>\n      <td>13</td>\n      <td>1452.0</td>\n      <td>1246.1</td>\n      <td>103.6</td>\n      <td>NaN</td>\n      <td>31.7</td>\n      <td>0.584</td>\n      <td>32.4</td>\n      <td>14.7</td>\n      <td>16.5</td>\n      <td>3.2</td>\n      <td>19.0</td>\n      <td>4.1</td>\n      <td>NaN</td>\n    </tr>\n    <tr>\n      <th>13</th>\n      <td>14</td>\n      <td>1438.0</td>\n      <td>1499.6</td>\n      <td>108.1</td>\n      <td>60.0</td>\n      <td>35.0</td>\n      <td>0.569</td>\n      <td>28.6</td>\n      <td>12.2</td>\n      <td>36.2</td>\n      <td>4.9</td>\n      <td>6.0</td>\n      <td>7.4</td>\n      <td>27.57</td>\n    </tr>\n    <tr>\n      <th>14</th>\n      <td>15</td>\n      <td>1782.0</td>\n      <td>1329.0</td>\n      <td>104.6</td>\n      <td>51.0</td>\n      <td>NaN</td>\n      <td>0.590</td>\n      <td>26.5</td>\n      <td>9.9</td>\n      <td>29.7</td>\n      <td>3.1</td>\n      <td>29.4</td>\n      <td>5.5</td>\n      <td>9.38</td>\n    </tr>\n    <tr>\n      <th>15</th>\n      <td>16</td>\n      <td>1276.0</td>\n      <td>1257.5</td>\n      <td>89.7</td>\n      <td>58.0</td>\n      <td>32.8</td>\n      <td>0.572</td>\n      <td>15.5</td>\n      <td>16.2</td>\n      <td>23.8</td>\n      <td>3.4</td>\n      <td>15.4</td>\n      <td>6.0</td>\n      <td>9.49</td>\n    </tr>\n    <tr>\n      <th>16</th>\n      <td>17</td>\n      <td>1486.0</td>\n      <td>1343.6</td>\n      <td>100.6</td>\n      <td>NaN</td>\n      <td>34.9</td>\n      <td>0.603</td>\n      <td>26.2</td>\n      <td>11.1</td>\n      <td>36.7</td>\n      <td>3.0</td>\n      <td>14.3</td>\n      <td>5.3</td>\n      <td>NaN</td>\n    </tr>\n    <tr>\n      <th>17</th>\n      <td>18</td>\n      <td>1326.0</td>\n      <td>1542.0</td>\n      <td>107.8</td>\n      <td>52.0</td>\n      <td>31.8</td>\n      <td>0.583</td>\n      <td>25.3</td>\n      <td>11.7</td>\n      <td>30.6</td>\n      <td>3.3</td>\n      <td>9.9</td>\n      <td>5.3</td>\n      <td>19.78</td>\n    </tr>\n    <tr>\n      <th>18</th>\n      <td>19</td>\n      <td>1535.0</td>\n      <td>1336.2</td>\n      <td>104.0</td>\n      <td>56.0</td>\n      <td>35.4</td>\n      <td>0.636</td>\n      <td>27.2</td>\n      <td>10.8</td>\n      <td>29.9</td>\n      <td>0.7</td>\n      <td>5.6</td>\n      <td>7.9</td>\n      <td>30.44</td>\n    </tr>\n    <tr>\n      <th>19</th>\n      <td>20</td>\n      <td>NaN</td>\n      <td>NaN</td>\n      <td>NaN</td>\n      <td>57.0</td>\n      <td>34.0</td>\n      <td>0.526</td>\n      <td>28.3</td>\n      <td>11.7</td>\n      <td>25.6</td>\n      <td>3.1</td>\n      <td>4.7</td>\n      <td>1.0</td>\n      <td>11.57</td>\n    </tr>\n    <tr>\n      <th>20</th>\n      <td>21</td>\n      <td>1276.0</td>\n      <td>1354.9</td>\n      <td>101.2</td>\n      <td>50.0</td>\n      <td>NaN</td>\n      <td>0.560</td>\n      <td>21.4</td>\n      <td>12.4</td>\n      <td>28.6</td>\n      <td>2.6</td>\n      <td>9.3</td>\n      <td>10.3</td>\n      <td>24.23</td>\n    </tr>\n    <tr>\n      <th>21</th>\n      <td>22</td>\n      <td>1784.0</td>\n      <td>1287.1</td>\n      <td>101.3</td>\n      <td>59.0</td>\n      <td>33.8</td>\n      <td>0.601</td>\n      <td>27.2</td>\n      <td>12.4</td>\n      <td>21.8</td>\n      <td>2.9</td>\n      <td>5.2</td>\n      <td>9.9</td>\n      <td>25.15</td>\n    </tr>\n    <tr>\n      <th>22</th>\n      <td>23</td>\n      <td>1729.0</td>\n      <td>1205.0</td>\n      <td>103.8</td>\n      <td>61.0</td>\n      <td>NaN</td>\n      <td>0.645</td>\n      <td>20.6</td>\n      <td>13.1</td>\n      <td>31.5</td>\n      <td>4.0</td>\n      <td>12.0</td>\n      <td>5.2</td>\n      <td>NaN</td>\n    </tr>\n    <tr>\n      <th>23</th>\n      <td>24</td>\n      <td>1639.0</td>\n      <td>1287.4</td>\n      <td>105.2</td>\n      <td>52.0</td>\n      <td>35.4</td>\n      <td>0.570</td>\n      <td>32.7</td>\n      <td>15.0</td>\n      <td>26.6</td>\n      <td>1.6</td>\n      <td>5.0</td>\n      <td>9.4</td>\n      <td>25.12</td>\n    </tr>\n    <tr>\n      <th>24</th>\n      <td>25</td>\n      <td>NaN</td>\n      <td>NaN</td>\n      <td>NaN</td>\n      <td>59.0</td>\n      <td>34.9</td>\n      <td>0.578</td>\n      <td>16.9</td>\n      <td>11.8</td>\n      <td>28.7</td>\n      <td>2.8</td>\n      <td>14.1</td>\n      <td>3.0</td>\n      <td>12.27</td>\n    </tr>\n    <tr>\n      <th>25</th>\n      <td>26</td>\n      <td>1370.0</td>\n      <td>1384.7</td>\n      <td>103.3</td>\n      <td>NaN</td>\n      <td>34.2</td>\n      <td>0.571</td>\n      <td>14.8</td>\n      <td>9.9</td>\n      <td>33.1</td>\n      <td>2.4</td>\n      <td>16.3</td>\n      <td>3.7</td>\n      <td>15.04</td>\n    </tr>\n    <tr>\n      <th>26</th>\n      <td>27</td>\n      <td>1497.0</td>\n      <td>1410.9</td>\n      <td>98.3</td>\n      <td>57.0</td>\n      <td>34.1</td>\n      <td>0.613</td>\n      <td>15.4</td>\n      <td>10.0</td>\n      <td>29.3</td>\n      <td>3.8</td>\n      <td>5.7</td>\n      <td>6.7</td>\n      <td>25.35</td>\n    </tr>\n    <tr>\n      <th>27</th>\n      <td>28</td>\n      <td>1313.0</td>\n      <td>1420.5</td>\n      <td>105.0</td>\n      <td>48.0</td>\n      <td>35.1</td>\n      <td>0.569</td>\n      <td>19.0</td>\n      <td>10.9</td>\n      <td>29.2</td>\n      <td>4.6</td>\n      <td>17.7</td>\n      <td>5.2</td>\n      <td>NaN</td>\n    </tr>\n    <tr>\n      <th>28</th>\n      <td>29</td>\n      <td>1464.0</td>\n      <td>1353.4</td>\n      <td>103.3</td>\n      <td>63.0</td>\n      <td>34.4</td>\n      <td>0.595</td>\n      <td>17.9</td>\n      <td>9.2</td>\n      <td>29.3</td>\n      <td>1.0</td>\n      <td>8.7</td>\n      <td>4.1</td>\n      <td>20.49</td>\n    </tr>\n    <tr>\n      <th>29</th>\n      <td>30</td>\n      <td>1645.0</td>\n      <td>1415.7</td>\n      <td>109.8</td>\n      <td>NaN</td>\n      <td>NaN</td>\n      <td>NaN</td>\n      <td>NaN</td>\n      <td>NaN</td>\n      <td>NaN</td>\n      <td>NaN</td>\n      <td>NaN</td>\n      <td>NaN</td>\n      <td>NaN</td>\n    </tr>\n    <tr>\n      <th>30</th>\n      <td>31</td>\n      <td>2049.0</td>\n      <td>1434.0</td>\n      <td>110.0</td>\n      <td>64.0</td>\n      <td>38.8</td>\n      <td>0.619</td>\n      <td>31.5</td>\n      <td>14.9</td>\n      <td>35.5</td>\n      <td>8.3</td>\n      <td>17.6</td>\n      <td>12.8</td>\n      <td>28.44</td>\n    </tr>\n    <tr>\n      <th>31</th>\n      <td>32</td>\n      <td>1795.0</td>\n      <td>1481.8</td>\n      <td>112.1</td>\n      <td>62.0</td>\n      <td>35.4</td>\n      <td>0.608</td>\n      <td>31.9</td>\n      <td>14.5</td>\n      <td>32.0</td>\n      <td>6.5</td>\n      <td>22.5</td>\n      <td>12.9</td>\n      <td>23.34</td>\n    </tr>\n    <tr>\n      <th>32</th>\n      <td>33</td>\n      <td>1805.0</td>\n      <td>1509.9</td>\n      <td>108.6</td>\n      <td>64.0</td>\n      <td>35.4</td>\n      <td>0.622</td>\n      <td>27.9</td>\n      <td>13.9</td>\n      <td>36.0</td>\n      <td>5.9</td>\n      <td>27.7</td>\n      <td>12.2</td>\n      <td>22.41</td>\n    </tr>\n    <tr>\n      <th>33</th>\n      <td>34</td>\n      <td>1743.0</td>\n      <td>1422.4</td>\n      <td>112.9</td>\n      <td>64.0</td>\n      <td>36.3</td>\n      <td>0.619</td>\n      <td>30.9</td>\n      <td>15.6</td>\n      <td>34.5</td>\n      <td>5.9</td>\n      <td>18.9</td>\n      <td>14.8</td>\n      <td>NaN</td>\n    </tr>\n    <tr>\n      <th>34</th>\n      <td>35</td>\n      <td>1963.0</td>\n      <td>1539.1</td>\n      <td>117.4</td>\n      <td>NaN</td>\n      <td>NaN</td>\n      <td>0.633</td>\n      <td>32.3</td>\n      <td>16.2</td>\n      <td>34.0</td>\n      <td>5.9</td>\n      <td>19.8</td>\n      <td>13.1</td>\n      <td>27.16</td>\n    </tr>\n    <tr>\n      <th>35</th>\n      <td>36</td>\n      <td>2062.0</td>\n      <td>1505.7</td>\n      <td>111.5</td>\n      <td>NaN</td>\n      <td>37.0</td>\n      <td>0.620</td>\n      <td>29.8</td>\n      <td>15.6</td>\n      <td>36.2</td>\n      <td>4.9</td>\n      <td>23.9</td>\n      <td>14.7</td>\n      <td>27.86</td>\n    </tr>\n    <tr>\n      <th>36</th>\n      <td>37</td>\n      <td>1845.0</td>\n      <td>1435.7</td>\n      <td>113.1</td>\n      <td>69.0</td>\n      <td>36.9</td>\n      <td>0.634</td>\n      <td>33.2</td>\n      <td>14.0</td>\n      <td>36.5</td>\n      <td>4.1</td>\n      <td>21.5</td>\n      <td>16.4</td>\n      <td>34.26</td>\n    </tr>\n    <tr>\n      <th>37</th>\n      <td>38</td>\n      <td>1778.0</td>\n      <td>1526.4</td>\n      <td>109.3</td>\n      <td>66.0</td>\n      <td>34.9</td>\n      <td>0.612</td>\n      <td>30.6</td>\n      <td>15.9</td>\n      <td>35.9</td>\n      <td>5.5</td>\n      <td>18.8</td>\n      <td>13.7</td>\n      <td>28.65</td>\n    </tr>\n    <tr>\n      <th>38</th>\n      <td>39</td>\n      <td>1901.0</td>\n      <td>1444.1</td>\n      <td>109.7</td>\n      <td>67.0</td>\n      <td>36.5</td>\n      <td>0.609</td>\n      <td>27.2</td>\n      <td>14.8</td>\n      <td>35.5</td>\n      <td>5.0</td>\n      <td>21.8</td>\n      <td>8.9</td>\n      <td>20.12</td>\n    </tr>\n    <tr>\n      <th>39</th>\n      <td>40</td>\n      <td>183.0</td>\n      <td>147.3</td>\n      <td>118.1</td>\n      <td>63.0</td>\n      <td>37.5</td>\n      <td>0.623</td>\n      <td>31.2</td>\n      <td>13.5</td>\n      <td>34.7</td>\n      <td>6.3</td>\n      <td>18.7</td>\n      <td>13.6</td>\n      <td>29.81</td>\n    </tr>\n    <tr>\n      <th>40</th>\n      <td>41</td>\n      <td>2030.0</td>\n      <td>1431.0</td>\n      <td>112.3</td>\n      <td>68.0</td>\n      <td>37.0</td>\n      <td>0.618</td>\n      <td>32.5</td>\n      <td>15.3</td>\n      <td>34.5</td>\n      <td>5.7</td>\n      <td>15.7</td>\n      <td>13.2</td>\n      <td>30.07</td>\n    </tr>\n    <tr>\n      <th>41</th>\n      <td>42</td>\n      <td>1631.0</td>\n      <td>1465.7</td>\n      <td>110.1</td>\n      <td>66.0</td>\n      <td>37.5</td>\n      <td>0.613</td>\n      <td>28.4</td>\n      <td>14.4</td>\n      <td>35.7</td>\n      <td>6.5</td>\n      <td>20.7</td>\n      <td>14.0</td>\n      <td>28.40</td>\n    </tr>\n    <tr>\n      <th>42</th>\n      <td>43</td>\n      <td>1828.0</td>\n      <td>1507.2</td>\n      <td>112.7</td>\n      <td>64.0</td>\n      <td>36.5</td>\n      <td>0.618</td>\n      <td>31.3</td>\n      <td>14.0</td>\n      <td>34.9</td>\n      <td>5.9</td>\n      <td>21.3</td>\n      <td>14.5</td>\n      <td>NaN</td>\n    </tr>\n    <tr>\n      <th>43</th>\n      <td>44</td>\n      <td>1821.0</td>\n      <td>1443.7</td>\n      <td>118.8</td>\n      <td>66.0</td>\n      <td>36.6</td>\n      <td>0.609</td>\n      <td>27.3</td>\n      <td>13.5</td>\n      <td>35.8</td>\n      <td>7.0</td>\n      <td>23.8</td>\n      <td>11.5</td>\n      <td>22.96</td>\n    </tr>\n    <tr>\n      <th>44</th>\n      <td>45</td>\n      <td>1740.0</td>\n      <td>1443.9</td>\n      <td>114.1</td>\n      <td>68.0</td>\n      <td>37.1</td>\n      <td>0.611</td>\n      <td>26.6</td>\n      <td>15.2</td>\n      <td>29.3</td>\n      <td>8.3</td>\n      <td>17.7</td>\n      <td>11.1</td>\n      <td>21.22</td>\n    </tr>\n    <tr>\n      <th>45</th>\n      <td>46</td>\n      <td>1993.0</td>\n      <td>1459.0</td>\n      <td>112.5</td>\n      <td>NaN</td>\n      <td>36.9</td>\n      <td>0.627</td>\n      <td>30.4</td>\n      <td>15.0</td>\n      <td>33.7</td>\n      <td>6.3</td>\n      <td>19.3</td>\n      <td>14.1</td>\n      <td>28.76</td>\n    </tr>\n  </tbody>\n</table>\n</div>"
     },
     "metadata": {},
     "execution_count": 7
    }
   ],
   "source": [
    "player_df"
   ]
  },
  {
   "source": [
    "Rows entfernen mit tresh(old) Parameter für Mindestanzahl nicht-leerer Spalten:"
   ],
   "cell_type": "markdown",
   "metadata": {}
  },
  {
   "cell_type": "code",
   "execution_count": 8,
   "metadata": {},
   "outputs": [
    {
     "output_type": "execute_result",
     "data": {
      "text/plain": [
       "    ID  points  possessions  team_pace    GP   MPG    TS%   AST    TO   USG  \\\n",
       "0    1  1893.0       1251.8       97.8  63.0  33.9  0.569  17.2  11.5  26.1   \n",
       "1    2  1386.0       1282.5      110.5  58.0  32.5  0.511  24.8   9.7  26.9   \n",
       "2    3  1405.0       1252.3      105.8  55.0  36.3  0.605  25.7  13.9  28.1   \n",
       "3    4  1282.0       1235.9      100.7  54.0  37.6  0.636  29.5  11.0  22.3   \n",
       "4    5  1721.0       1254.0      105.7  59.0  30.5  0.589  22.8   9.9  24.6   \n",
       "5    6  1004.0       1322.4      102.1  57.0  36.3  0.574  20.3  13.5  31.0   \n",
       "6    7  1920.0       1207.6      109.8  55.0  37.0  0.573  26.0  13.1  30.7   \n",
       "7    8  1353.0       1348.1      112.2  57.0   NaN  0.574  24.4  11.3  26.3   \n",
       "9   10  1468.0       1400.9       93.7  61.0  35.6  0.547  22.9  12.2  22.7   \n",
       "10  11  1856.0       1303.8       93.4  55.0  33.6  0.563  28.9  14.7  26.7   \n",
       "11  12  1058.0       1231.5       99.4  63.0  32.8  0.550  25.1  12.9  27.2   \n",
       "12  13  1452.0       1246.1      103.6   NaN  31.7  0.584  32.4  14.7  16.5   \n",
       "13  14  1438.0       1499.6      108.1  60.0  35.0  0.569  28.6  12.2  36.2   \n",
       "14  15  1782.0       1329.0      104.6  51.0   NaN  0.590  26.5   9.9  29.7   \n",
       "15  16  1276.0       1257.5       89.7  58.0  32.8  0.572  15.5  16.2  23.8   \n",
       "16  17  1486.0       1343.6      100.6   NaN  34.9  0.603  26.2  11.1  36.7   \n",
       "17  18  1326.0       1542.0      107.8  52.0  31.8  0.583  25.3  11.7  30.6   \n",
       "18  19  1535.0       1336.2      104.0  56.0  35.4  0.636  27.2  10.8  29.9   \n",
       "20  21  1276.0       1354.9      101.2  50.0   NaN  0.560  21.4  12.4  28.6   \n",
       "21  22  1784.0       1287.1      101.3  59.0  33.8  0.601  27.2  12.4  21.8   \n",
       "22  23  1729.0       1205.0      103.8  61.0   NaN  0.645  20.6  13.1  31.5   \n",
       "23  24  1639.0       1287.4      105.2  52.0  35.4  0.570  32.7  15.0  26.6   \n",
       "25  26  1370.0       1384.7      103.3   NaN  34.2  0.571  14.8   9.9  33.1   \n",
       "26  27  1497.0       1410.9       98.3  57.0  34.1  0.613  15.4  10.0  29.3   \n",
       "27  28  1313.0       1420.5      105.0  48.0  35.1  0.569  19.0  10.9  29.2   \n",
       "28  29  1464.0       1353.4      103.3  63.0  34.4  0.595  17.9   9.2  29.3   \n",
       "30  31  2049.0       1434.0      110.0  64.0  38.8  0.619  31.5  14.9  35.5   \n",
       "31  32  1795.0       1481.8      112.1  62.0  35.4  0.608  31.9  14.5  32.0   \n",
       "32  33  1805.0       1509.9      108.6  64.0  35.4  0.622  27.9  13.9  36.0   \n",
       "33  34  1743.0       1422.4      112.9  64.0  36.3  0.619  30.9  15.6  34.5   \n",
       "34  35  1963.0       1539.1      117.4   NaN   NaN  0.633  32.3  16.2  34.0   \n",
       "35  36  2062.0       1505.7      111.5   NaN  37.0  0.620  29.8  15.6  36.2   \n",
       "36  37  1845.0       1435.7      113.1  69.0  36.9  0.634  33.2  14.0  36.5   \n",
       "37  38  1778.0       1526.4      109.3  66.0  34.9  0.612  30.6  15.9  35.9   \n",
       "38  39  1901.0       1444.1      109.7  67.0  36.5  0.609  27.2  14.8  35.5   \n",
       "39  40   183.0        147.3      118.1  63.0  37.5  0.623  31.2  13.5  34.7   \n",
       "40  41  2030.0       1431.0      112.3  68.0  37.0  0.618  32.5  15.3  34.5   \n",
       "41  42  1631.0       1465.7      110.1  66.0  37.5  0.613  28.4  14.4  35.7   \n",
       "42  43  1828.0       1507.2      112.7  64.0  36.5  0.618  31.3  14.0  34.9   \n",
       "43  44  1821.0       1443.7      118.8  66.0  36.6  0.609  27.3  13.5  35.8   \n",
       "44  45  1740.0       1443.9      114.1  68.0  37.1  0.611  26.6  15.2  29.3   \n",
       "45  46  1993.0       1459.0      112.5   NaN  36.9  0.627  30.4  15.0  33.7   \n",
       "\n",
       "    ORR   DRR  REBR    PER  \n",
       "0   4.7  23.3   7.8  10.90  \n",
       "1   6.1   0.9  10.7  27.30  \n",
       "2   4.5   4.9   1.8    NaN  \n",
       "3   4.8   4.6   5.6  22.35  \n",
       "4   1.2   8.4  12.1  28.38  \n",
       "5   1.2  20.5   3.4   9.83  \n",
       "6   0.0  10.3  -2.6   8.71  \n",
       "7   5.5   5.8  -2.2    NaN  \n",
       "9   5.8   6.4  -2.9    NaN  \n",
       "10  1.4  17.3   4.3   9.67  \n",
       "11  2.1  12.1  11.4  22.97  \n",
       "12  3.2  19.0   4.1    NaN  \n",
       "13  4.9   6.0   7.4  27.57  \n",
       "14  3.1  29.4   5.5   9.38  \n",
       "15  3.4  15.4   6.0   9.49  \n",
       "16  3.0  14.3   5.3    NaN  \n",
       "17  3.3   9.9   5.3  19.78  \n",
       "18  0.7   5.6   7.9  30.44  \n",
       "20  2.6   9.3  10.3  24.23  \n",
       "21  2.9   5.2   9.9  25.15  \n",
       "22  4.0  12.0   5.2    NaN  \n",
       "23  1.6   5.0   9.4  25.12  \n",
       "25  2.4  16.3   3.7  15.04  \n",
       "26  3.8   5.7   6.7  25.35  \n",
       "27  4.6  17.7   5.2    NaN  \n",
       "28  1.0   8.7   4.1  20.49  \n",
       "30  8.3  17.6  12.8  28.44  \n",
       "31  6.5  22.5  12.9  23.34  \n",
       "32  5.9  27.7  12.2  22.41  \n",
       "33  5.9  18.9  14.8    NaN  \n",
       "34  5.9  19.8  13.1  27.16  \n",
       "35  4.9  23.9  14.7  27.86  \n",
       "36  4.1  21.5  16.4  34.26  \n",
       "37  5.5  18.8  13.7  28.65  \n",
       "38  5.0  21.8   8.9  20.12  \n",
       "39  6.3  18.7  13.6  29.81  \n",
       "40  5.7  15.7  13.2  30.07  \n",
       "41  6.5  20.7  14.0  28.40  \n",
       "42  5.9  21.3  14.5    NaN  \n",
       "43  7.0  23.8  11.5  22.96  \n",
       "44  8.3  17.7  11.1  21.22  \n",
       "45  6.3  19.3  14.1  28.76  "
      ],
      "text/html": "<div>\n<style scoped>\n    .dataframe tbody tr th:only-of-type {\n        vertical-align: middle;\n    }\n\n    .dataframe tbody tr th {\n        vertical-align: top;\n    }\n\n    .dataframe thead th {\n        text-align: right;\n    }\n</style>\n<table border=\"1\" class=\"dataframe\">\n  <thead>\n    <tr style=\"text-align: right;\">\n      <th></th>\n      <th>ID</th>\n      <th>points</th>\n      <th>possessions</th>\n      <th>team_pace</th>\n      <th>GP</th>\n      <th>MPG</th>\n      <th>TS%</th>\n      <th>AST</th>\n      <th>TO</th>\n      <th>USG</th>\n      <th>ORR</th>\n      <th>DRR</th>\n      <th>REBR</th>\n      <th>PER</th>\n    </tr>\n  </thead>\n  <tbody>\n    <tr>\n      <th>0</th>\n      <td>1</td>\n      <td>1893.0</td>\n      <td>1251.8</td>\n      <td>97.8</td>\n      <td>63.0</td>\n      <td>33.9</td>\n      <td>0.569</td>\n      <td>17.2</td>\n      <td>11.5</td>\n      <td>26.1</td>\n      <td>4.7</td>\n      <td>23.3</td>\n      <td>7.8</td>\n      <td>10.90</td>\n    </tr>\n    <tr>\n      <th>1</th>\n      <td>2</td>\n      <td>1386.0</td>\n      <td>1282.5</td>\n      <td>110.5</td>\n      <td>58.0</td>\n      <td>32.5</td>\n      <td>0.511</td>\n      <td>24.8</td>\n      <td>9.7</td>\n      <td>26.9</td>\n      <td>6.1</td>\n      <td>0.9</td>\n      <td>10.7</td>\n      <td>27.30</td>\n    </tr>\n    <tr>\n      <th>2</th>\n      <td>3</td>\n      <td>1405.0</td>\n      <td>1252.3</td>\n      <td>105.8</td>\n      <td>55.0</td>\n      <td>36.3</td>\n      <td>0.605</td>\n      <td>25.7</td>\n      <td>13.9</td>\n      <td>28.1</td>\n      <td>4.5</td>\n      <td>4.9</td>\n      <td>1.8</td>\n      <td>NaN</td>\n    </tr>\n    <tr>\n      <th>3</th>\n      <td>4</td>\n      <td>1282.0</td>\n      <td>1235.9</td>\n      <td>100.7</td>\n      <td>54.0</td>\n      <td>37.6</td>\n      <td>0.636</td>\n      <td>29.5</td>\n      <td>11.0</td>\n      <td>22.3</td>\n      <td>4.8</td>\n      <td>4.6</td>\n      <td>5.6</td>\n      <td>22.35</td>\n    </tr>\n    <tr>\n      <th>4</th>\n      <td>5</td>\n      <td>1721.0</td>\n      <td>1254.0</td>\n      <td>105.7</td>\n      <td>59.0</td>\n      <td>30.5</td>\n      <td>0.589</td>\n      <td>22.8</td>\n      <td>9.9</td>\n      <td>24.6</td>\n      <td>1.2</td>\n      <td>8.4</td>\n      <td>12.1</td>\n      <td>28.38</td>\n    </tr>\n    <tr>\n      <th>5</th>\n      <td>6</td>\n      <td>1004.0</td>\n      <td>1322.4</td>\n      <td>102.1</td>\n      <td>57.0</td>\n      <td>36.3</td>\n      <td>0.574</td>\n      <td>20.3</td>\n      <td>13.5</td>\n      <td>31.0</td>\n      <td>1.2</td>\n      <td>20.5</td>\n      <td>3.4</td>\n      <td>9.83</td>\n    </tr>\n    <tr>\n      <th>6</th>\n      <td>7</td>\n      <td>1920.0</td>\n      <td>1207.6</td>\n      <td>109.8</td>\n      <td>55.0</td>\n      <td>37.0</td>\n      <td>0.573</td>\n      <td>26.0</td>\n      <td>13.1</td>\n      <td>30.7</td>\n      <td>0.0</td>\n      <td>10.3</td>\n      <td>-2.6</td>\n      <td>8.71</td>\n    </tr>\n    <tr>\n      <th>7</th>\n      <td>8</td>\n      <td>1353.0</td>\n      <td>1348.1</td>\n      <td>112.2</td>\n      <td>57.0</td>\n      <td>NaN</td>\n      <td>0.574</td>\n      <td>24.4</td>\n      <td>11.3</td>\n      <td>26.3</td>\n      <td>5.5</td>\n      <td>5.8</td>\n      <td>-2.2</td>\n      <td>NaN</td>\n    </tr>\n    <tr>\n      <th>9</th>\n      <td>10</td>\n      <td>1468.0</td>\n      <td>1400.9</td>\n      <td>93.7</td>\n      <td>61.0</td>\n      <td>35.6</td>\n      <td>0.547</td>\n      <td>22.9</td>\n      <td>12.2</td>\n      <td>22.7</td>\n      <td>5.8</td>\n      <td>6.4</td>\n      <td>-2.9</td>\n      <td>NaN</td>\n    </tr>\n    <tr>\n      <th>10</th>\n      <td>11</td>\n      <td>1856.0</td>\n      <td>1303.8</td>\n      <td>93.4</td>\n      <td>55.0</td>\n      <td>33.6</td>\n      <td>0.563</td>\n      <td>28.9</td>\n      <td>14.7</td>\n      <td>26.7</td>\n      <td>1.4</td>\n      <td>17.3</td>\n      <td>4.3</td>\n      <td>9.67</td>\n    </tr>\n    <tr>\n      <th>11</th>\n      <td>12</td>\n      <td>1058.0</td>\n      <td>1231.5</td>\n      <td>99.4</td>\n      <td>63.0</td>\n      <td>32.8</td>\n      <td>0.550</td>\n      <td>25.1</td>\n      <td>12.9</td>\n      <td>27.2</td>\n      <td>2.1</td>\n      <td>12.1</td>\n      <td>11.4</td>\n      <td>22.97</td>\n    </tr>\n    <tr>\n      <th>12</th>\n      <td>13</td>\n      <td>1452.0</td>\n      <td>1246.1</td>\n      <td>103.6</td>\n      <td>NaN</td>\n      <td>31.7</td>\n      <td>0.584</td>\n      <td>32.4</td>\n      <td>14.7</td>\n      <td>16.5</td>\n      <td>3.2</td>\n      <td>19.0</td>\n      <td>4.1</td>\n      <td>NaN</td>\n    </tr>\n    <tr>\n      <th>13</th>\n      <td>14</td>\n      <td>1438.0</td>\n      <td>1499.6</td>\n      <td>108.1</td>\n      <td>60.0</td>\n      <td>35.0</td>\n      <td>0.569</td>\n      <td>28.6</td>\n      <td>12.2</td>\n      <td>36.2</td>\n      <td>4.9</td>\n      <td>6.0</td>\n      <td>7.4</td>\n      <td>27.57</td>\n    </tr>\n    <tr>\n      <th>14</th>\n      <td>15</td>\n      <td>1782.0</td>\n      <td>1329.0</td>\n      <td>104.6</td>\n      <td>51.0</td>\n      <td>NaN</td>\n      <td>0.590</td>\n      <td>26.5</td>\n      <td>9.9</td>\n      <td>29.7</td>\n      <td>3.1</td>\n      <td>29.4</td>\n      <td>5.5</td>\n      <td>9.38</td>\n    </tr>\n    <tr>\n      <th>15</th>\n      <td>16</td>\n      <td>1276.0</td>\n      <td>1257.5</td>\n      <td>89.7</td>\n      <td>58.0</td>\n      <td>32.8</td>\n      <td>0.572</td>\n      <td>15.5</td>\n      <td>16.2</td>\n      <td>23.8</td>\n      <td>3.4</td>\n      <td>15.4</td>\n      <td>6.0</td>\n      <td>9.49</td>\n    </tr>\n    <tr>\n      <th>16</th>\n      <td>17</td>\n      <td>1486.0</td>\n      <td>1343.6</td>\n      <td>100.6</td>\n      <td>NaN</td>\n      <td>34.9</td>\n      <td>0.603</td>\n      <td>26.2</td>\n      <td>11.1</td>\n      <td>36.7</td>\n      <td>3.0</td>\n      <td>14.3</td>\n      <td>5.3</td>\n      <td>NaN</td>\n    </tr>\n    <tr>\n      <th>17</th>\n      <td>18</td>\n      <td>1326.0</td>\n      <td>1542.0</td>\n      <td>107.8</td>\n      <td>52.0</td>\n      <td>31.8</td>\n      <td>0.583</td>\n      <td>25.3</td>\n      <td>11.7</td>\n      <td>30.6</td>\n      <td>3.3</td>\n      <td>9.9</td>\n      <td>5.3</td>\n      <td>19.78</td>\n    </tr>\n    <tr>\n      <th>18</th>\n      <td>19</td>\n      <td>1535.0</td>\n      <td>1336.2</td>\n      <td>104.0</td>\n      <td>56.0</td>\n      <td>35.4</td>\n      <td>0.636</td>\n      <td>27.2</td>\n      <td>10.8</td>\n      <td>29.9</td>\n      <td>0.7</td>\n      <td>5.6</td>\n      <td>7.9</td>\n      <td>30.44</td>\n    </tr>\n    <tr>\n      <th>20</th>\n      <td>21</td>\n      <td>1276.0</td>\n      <td>1354.9</td>\n      <td>101.2</td>\n      <td>50.0</td>\n      <td>NaN</td>\n      <td>0.560</td>\n      <td>21.4</td>\n      <td>12.4</td>\n      <td>28.6</td>\n      <td>2.6</td>\n      <td>9.3</td>\n      <td>10.3</td>\n      <td>24.23</td>\n    </tr>\n    <tr>\n      <th>21</th>\n      <td>22</td>\n      <td>1784.0</td>\n      <td>1287.1</td>\n      <td>101.3</td>\n      <td>59.0</td>\n      <td>33.8</td>\n      <td>0.601</td>\n      <td>27.2</td>\n      <td>12.4</td>\n      <td>21.8</td>\n      <td>2.9</td>\n      <td>5.2</td>\n      <td>9.9</td>\n      <td>25.15</td>\n    </tr>\n    <tr>\n      <th>22</th>\n      <td>23</td>\n      <td>1729.0</td>\n      <td>1205.0</td>\n      <td>103.8</td>\n      <td>61.0</td>\n      <td>NaN</td>\n      <td>0.645</td>\n      <td>20.6</td>\n      <td>13.1</td>\n      <td>31.5</td>\n      <td>4.0</td>\n      <td>12.0</td>\n      <td>5.2</td>\n      <td>NaN</td>\n    </tr>\n    <tr>\n      <th>23</th>\n      <td>24</td>\n      <td>1639.0</td>\n      <td>1287.4</td>\n      <td>105.2</td>\n      <td>52.0</td>\n      <td>35.4</td>\n      <td>0.570</td>\n      <td>32.7</td>\n      <td>15.0</td>\n      <td>26.6</td>\n      <td>1.6</td>\n      <td>5.0</td>\n      <td>9.4</td>\n      <td>25.12</td>\n    </tr>\n    <tr>\n      <th>25</th>\n      <td>26</td>\n      <td>1370.0</td>\n      <td>1384.7</td>\n      <td>103.3</td>\n      <td>NaN</td>\n      <td>34.2</td>\n      <td>0.571</td>\n      <td>14.8</td>\n      <td>9.9</td>\n      <td>33.1</td>\n      <td>2.4</td>\n      <td>16.3</td>\n      <td>3.7</td>\n      <td>15.04</td>\n    </tr>\n    <tr>\n      <th>26</th>\n      <td>27</td>\n      <td>1497.0</td>\n      <td>1410.9</td>\n      <td>98.3</td>\n      <td>57.0</td>\n      <td>34.1</td>\n      <td>0.613</td>\n      <td>15.4</td>\n      <td>10.0</td>\n      <td>29.3</td>\n      <td>3.8</td>\n      <td>5.7</td>\n      <td>6.7</td>\n      <td>25.35</td>\n    </tr>\n    <tr>\n      <th>27</th>\n      <td>28</td>\n      <td>1313.0</td>\n      <td>1420.5</td>\n      <td>105.0</td>\n      <td>48.0</td>\n      <td>35.1</td>\n      <td>0.569</td>\n      <td>19.0</td>\n      <td>10.9</td>\n      <td>29.2</td>\n      <td>4.6</td>\n      <td>17.7</td>\n      <td>5.2</td>\n      <td>NaN</td>\n    </tr>\n    <tr>\n      <th>28</th>\n      <td>29</td>\n      <td>1464.0</td>\n      <td>1353.4</td>\n      <td>103.3</td>\n      <td>63.0</td>\n      <td>34.4</td>\n      <td>0.595</td>\n      <td>17.9</td>\n      <td>9.2</td>\n      <td>29.3</td>\n      <td>1.0</td>\n      <td>8.7</td>\n      <td>4.1</td>\n      <td>20.49</td>\n    </tr>\n    <tr>\n      <th>30</th>\n      <td>31</td>\n      <td>2049.0</td>\n      <td>1434.0</td>\n      <td>110.0</td>\n      <td>64.0</td>\n      <td>38.8</td>\n      <td>0.619</td>\n      <td>31.5</td>\n      <td>14.9</td>\n      <td>35.5</td>\n      <td>8.3</td>\n      <td>17.6</td>\n      <td>12.8</td>\n      <td>28.44</td>\n    </tr>\n    <tr>\n      <th>31</th>\n      <td>32</td>\n      <td>1795.0</td>\n      <td>1481.8</td>\n      <td>112.1</td>\n      <td>62.0</td>\n      <td>35.4</td>\n      <td>0.608</td>\n      <td>31.9</td>\n      <td>14.5</td>\n      <td>32.0</td>\n      <td>6.5</td>\n      <td>22.5</td>\n      <td>12.9</td>\n      <td>23.34</td>\n    </tr>\n    <tr>\n      <th>32</th>\n      <td>33</td>\n      <td>1805.0</td>\n      <td>1509.9</td>\n      <td>108.6</td>\n      <td>64.0</td>\n      <td>35.4</td>\n      <td>0.622</td>\n      <td>27.9</td>\n      <td>13.9</td>\n      <td>36.0</td>\n      <td>5.9</td>\n      <td>27.7</td>\n      <td>12.2</td>\n      <td>22.41</td>\n    </tr>\n    <tr>\n      <th>33</th>\n      <td>34</td>\n      <td>1743.0</td>\n      <td>1422.4</td>\n      <td>112.9</td>\n      <td>64.0</td>\n      <td>36.3</td>\n      <td>0.619</td>\n      <td>30.9</td>\n      <td>15.6</td>\n      <td>34.5</td>\n      <td>5.9</td>\n      <td>18.9</td>\n      <td>14.8</td>\n      <td>NaN</td>\n    </tr>\n    <tr>\n      <th>34</th>\n      <td>35</td>\n      <td>1963.0</td>\n      <td>1539.1</td>\n      <td>117.4</td>\n      <td>NaN</td>\n      <td>NaN</td>\n      <td>0.633</td>\n      <td>32.3</td>\n      <td>16.2</td>\n      <td>34.0</td>\n      <td>5.9</td>\n      <td>19.8</td>\n      <td>13.1</td>\n      <td>27.16</td>\n    </tr>\n    <tr>\n      <th>35</th>\n      <td>36</td>\n      <td>2062.0</td>\n      <td>1505.7</td>\n      <td>111.5</td>\n      <td>NaN</td>\n      <td>37.0</td>\n      <td>0.620</td>\n      <td>29.8</td>\n      <td>15.6</td>\n      <td>36.2</td>\n      <td>4.9</td>\n      <td>23.9</td>\n      <td>14.7</td>\n      <td>27.86</td>\n    </tr>\n    <tr>\n      <th>36</th>\n      <td>37</td>\n      <td>1845.0</td>\n      <td>1435.7</td>\n      <td>113.1</td>\n      <td>69.0</td>\n      <td>36.9</td>\n      <td>0.634</td>\n      <td>33.2</td>\n      <td>14.0</td>\n      <td>36.5</td>\n      <td>4.1</td>\n      <td>21.5</td>\n      <td>16.4</td>\n      <td>34.26</td>\n    </tr>\n    <tr>\n      <th>37</th>\n      <td>38</td>\n      <td>1778.0</td>\n      <td>1526.4</td>\n      <td>109.3</td>\n      <td>66.0</td>\n      <td>34.9</td>\n      <td>0.612</td>\n      <td>30.6</td>\n      <td>15.9</td>\n      <td>35.9</td>\n      <td>5.5</td>\n      <td>18.8</td>\n      <td>13.7</td>\n      <td>28.65</td>\n    </tr>\n    <tr>\n      <th>38</th>\n      <td>39</td>\n      <td>1901.0</td>\n      <td>1444.1</td>\n      <td>109.7</td>\n      <td>67.0</td>\n      <td>36.5</td>\n      <td>0.609</td>\n      <td>27.2</td>\n      <td>14.8</td>\n      <td>35.5</td>\n      <td>5.0</td>\n      <td>21.8</td>\n      <td>8.9</td>\n      <td>20.12</td>\n    </tr>\n    <tr>\n      <th>39</th>\n      <td>40</td>\n      <td>183.0</td>\n      <td>147.3</td>\n      <td>118.1</td>\n      <td>63.0</td>\n      <td>37.5</td>\n      <td>0.623</td>\n      <td>31.2</td>\n      <td>13.5</td>\n      <td>34.7</td>\n      <td>6.3</td>\n      <td>18.7</td>\n      <td>13.6</td>\n      <td>29.81</td>\n    </tr>\n    <tr>\n      <th>40</th>\n      <td>41</td>\n      <td>2030.0</td>\n      <td>1431.0</td>\n      <td>112.3</td>\n      <td>68.0</td>\n      <td>37.0</td>\n      <td>0.618</td>\n      <td>32.5</td>\n      <td>15.3</td>\n      <td>34.5</td>\n      <td>5.7</td>\n      <td>15.7</td>\n      <td>13.2</td>\n      <td>30.07</td>\n    </tr>\n    <tr>\n      <th>41</th>\n      <td>42</td>\n      <td>1631.0</td>\n      <td>1465.7</td>\n      <td>110.1</td>\n      <td>66.0</td>\n      <td>37.5</td>\n      <td>0.613</td>\n      <td>28.4</td>\n      <td>14.4</td>\n      <td>35.7</td>\n      <td>6.5</td>\n      <td>20.7</td>\n      <td>14.0</td>\n      <td>28.40</td>\n    </tr>\n    <tr>\n      <th>42</th>\n      <td>43</td>\n      <td>1828.0</td>\n      <td>1507.2</td>\n      <td>112.7</td>\n      <td>64.0</td>\n      <td>36.5</td>\n      <td>0.618</td>\n      <td>31.3</td>\n      <td>14.0</td>\n      <td>34.9</td>\n      <td>5.9</td>\n      <td>21.3</td>\n      <td>14.5</td>\n      <td>NaN</td>\n    </tr>\n    <tr>\n      <th>43</th>\n      <td>44</td>\n      <td>1821.0</td>\n      <td>1443.7</td>\n      <td>118.8</td>\n      <td>66.0</td>\n      <td>36.6</td>\n      <td>0.609</td>\n      <td>27.3</td>\n      <td>13.5</td>\n      <td>35.8</td>\n      <td>7.0</td>\n      <td>23.8</td>\n      <td>11.5</td>\n      <td>22.96</td>\n    </tr>\n    <tr>\n      <th>44</th>\n      <td>45</td>\n      <td>1740.0</td>\n      <td>1443.9</td>\n      <td>114.1</td>\n      <td>68.0</td>\n      <td>37.1</td>\n      <td>0.611</td>\n      <td>26.6</td>\n      <td>15.2</td>\n      <td>29.3</td>\n      <td>8.3</td>\n      <td>17.7</td>\n      <td>11.1</td>\n      <td>21.22</td>\n    </tr>\n    <tr>\n      <th>45</th>\n      <td>46</td>\n      <td>1993.0</td>\n      <td>1459.0</td>\n      <td>112.5</td>\n      <td>NaN</td>\n      <td>36.9</td>\n      <td>0.627</td>\n      <td>30.4</td>\n      <td>15.0</td>\n      <td>33.7</td>\n      <td>6.3</td>\n      <td>19.3</td>\n      <td>14.1</td>\n      <td>28.76</td>\n    </tr>\n  </tbody>\n</table>\n</div>"
     },
     "metadata": {},
     "execution_count": 8
    }
   ],
   "source": [
    "player_df.dropna(inplace=True, thresh=12)\n",
    "player_df"
   ]
  },
  {
   "source": [
    "Index reparieren"
   ],
   "cell_type": "markdown",
   "metadata": {}
  },
  {
   "cell_type": "code",
   "execution_count": 9,
   "metadata": {},
   "outputs": [
    {
     "output_type": "execute_result",
     "data": {
      "text/plain": [
       "    ID  points  possessions  team_pace    GP   MPG    TS%   AST    TO   USG  \\\n",
       "0    1  1893.0       1251.8       97.8  63.0  33.9  0.569  17.2  11.5  26.1   \n",
       "1    2  1386.0       1282.5      110.5  58.0  32.5  0.511  24.8   9.7  26.9   \n",
       "2    3  1405.0       1252.3      105.8  55.0  36.3  0.605  25.7  13.9  28.1   \n",
       "3    4  1282.0       1235.9      100.7  54.0  37.6  0.636  29.5  11.0  22.3   \n",
       "4    5  1721.0       1254.0      105.7  59.0  30.5  0.589  22.8   9.9  24.6   \n",
       "5    6  1004.0       1322.4      102.1  57.0  36.3  0.574  20.3  13.5  31.0   \n",
       "6    7  1920.0       1207.6      109.8  55.0  37.0  0.573  26.0  13.1  30.7   \n",
       "7    8  1353.0       1348.1      112.2  57.0   NaN  0.574  24.4  11.3  26.3   \n",
       "8   10  1468.0       1400.9       93.7  61.0  35.6  0.547  22.9  12.2  22.7   \n",
       "9   11  1856.0       1303.8       93.4  55.0  33.6  0.563  28.9  14.7  26.7   \n",
       "10  12  1058.0       1231.5       99.4  63.0  32.8  0.550  25.1  12.9  27.2   \n",
       "11  13  1452.0       1246.1      103.6   NaN  31.7  0.584  32.4  14.7  16.5   \n",
       "12  14  1438.0       1499.6      108.1  60.0  35.0  0.569  28.6  12.2  36.2   \n",
       "13  15  1782.0       1329.0      104.6  51.0   NaN  0.590  26.5   9.9  29.7   \n",
       "14  16  1276.0       1257.5       89.7  58.0  32.8  0.572  15.5  16.2  23.8   \n",
       "15  17  1486.0       1343.6      100.6   NaN  34.9  0.603  26.2  11.1  36.7   \n",
       "16  18  1326.0       1542.0      107.8  52.0  31.8  0.583  25.3  11.7  30.6   \n",
       "17  19  1535.0       1336.2      104.0  56.0  35.4  0.636  27.2  10.8  29.9   \n",
       "18  21  1276.0       1354.9      101.2  50.0   NaN  0.560  21.4  12.4  28.6   \n",
       "19  22  1784.0       1287.1      101.3  59.0  33.8  0.601  27.2  12.4  21.8   \n",
       "20  23  1729.0       1205.0      103.8  61.0   NaN  0.645  20.6  13.1  31.5   \n",
       "21  24  1639.0       1287.4      105.2  52.0  35.4  0.570  32.7  15.0  26.6   \n",
       "22  26  1370.0       1384.7      103.3   NaN  34.2  0.571  14.8   9.9  33.1   \n",
       "23  27  1497.0       1410.9       98.3  57.0  34.1  0.613  15.4  10.0  29.3   \n",
       "24  28  1313.0       1420.5      105.0  48.0  35.1  0.569  19.0  10.9  29.2   \n",
       "25  29  1464.0       1353.4      103.3  63.0  34.4  0.595  17.9   9.2  29.3   \n",
       "26  31  2049.0       1434.0      110.0  64.0  38.8  0.619  31.5  14.9  35.5   \n",
       "27  32  1795.0       1481.8      112.1  62.0  35.4  0.608  31.9  14.5  32.0   \n",
       "28  33  1805.0       1509.9      108.6  64.0  35.4  0.622  27.9  13.9  36.0   \n",
       "29  34  1743.0       1422.4      112.9  64.0  36.3  0.619  30.9  15.6  34.5   \n",
       "30  35  1963.0       1539.1      117.4   NaN   NaN  0.633  32.3  16.2  34.0   \n",
       "31  36  2062.0       1505.7      111.5   NaN  37.0  0.620  29.8  15.6  36.2   \n",
       "32  37  1845.0       1435.7      113.1  69.0  36.9  0.634  33.2  14.0  36.5   \n",
       "33  38  1778.0       1526.4      109.3  66.0  34.9  0.612  30.6  15.9  35.9   \n",
       "34  39  1901.0       1444.1      109.7  67.0  36.5  0.609  27.2  14.8  35.5   \n",
       "35  40   183.0        147.3      118.1  63.0  37.5  0.623  31.2  13.5  34.7   \n",
       "36  41  2030.0       1431.0      112.3  68.0  37.0  0.618  32.5  15.3  34.5   \n",
       "37  42  1631.0       1465.7      110.1  66.0  37.5  0.613  28.4  14.4  35.7   \n",
       "38  43  1828.0       1507.2      112.7  64.0  36.5  0.618  31.3  14.0  34.9   \n",
       "39  44  1821.0       1443.7      118.8  66.0  36.6  0.609  27.3  13.5  35.8   \n",
       "40  45  1740.0       1443.9      114.1  68.0  37.1  0.611  26.6  15.2  29.3   \n",
       "41  46  1993.0       1459.0      112.5   NaN  36.9  0.627  30.4  15.0  33.7   \n",
       "\n",
       "    ORR   DRR  REBR    PER  \n",
       "0   4.7  23.3   7.8  10.90  \n",
       "1   6.1   0.9  10.7  27.30  \n",
       "2   4.5   4.9   1.8    NaN  \n",
       "3   4.8   4.6   5.6  22.35  \n",
       "4   1.2   8.4  12.1  28.38  \n",
       "5   1.2  20.5   3.4   9.83  \n",
       "6   0.0  10.3  -2.6   8.71  \n",
       "7   5.5   5.8  -2.2    NaN  \n",
       "8   5.8   6.4  -2.9    NaN  \n",
       "9   1.4  17.3   4.3   9.67  \n",
       "10  2.1  12.1  11.4  22.97  \n",
       "11  3.2  19.0   4.1    NaN  \n",
       "12  4.9   6.0   7.4  27.57  \n",
       "13  3.1  29.4   5.5   9.38  \n",
       "14  3.4  15.4   6.0   9.49  \n",
       "15  3.0  14.3   5.3    NaN  \n",
       "16  3.3   9.9   5.3  19.78  \n",
       "17  0.7   5.6   7.9  30.44  \n",
       "18  2.6   9.3  10.3  24.23  \n",
       "19  2.9   5.2   9.9  25.15  \n",
       "20  4.0  12.0   5.2    NaN  \n",
       "21  1.6   5.0   9.4  25.12  \n",
       "22  2.4  16.3   3.7  15.04  \n",
       "23  3.8   5.7   6.7  25.35  \n",
       "24  4.6  17.7   5.2    NaN  \n",
       "25  1.0   8.7   4.1  20.49  \n",
       "26  8.3  17.6  12.8  28.44  \n",
       "27  6.5  22.5  12.9  23.34  \n",
       "28  5.9  27.7  12.2  22.41  \n",
       "29  5.9  18.9  14.8    NaN  \n",
       "30  5.9  19.8  13.1  27.16  \n",
       "31  4.9  23.9  14.7  27.86  \n",
       "32  4.1  21.5  16.4  34.26  \n",
       "33  5.5  18.8  13.7  28.65  \n",
       "34  5.0  21.8   8.9  20.12  \n",
       "35  6.3  18.7  13.6  29.81  \n",
       "36  5.7  15.7  13.2  30.07  \n",
       "37  6.5  20.7  14.0  28.40  \n",
       "38  5.9  21.3  14.5    NaN  \n",
       "39  7.0  23.8  11.5  22.96  \n",
       "40  8.3  17.7  11.1  21.22  \n",
       "41  6.3  19.3  14.1  28.76  "
      ],
      "text/html": "<div>\n<style scoped>\n    .dataframe tbody tr th:only-of-type {\n        vertical-align: middle;\n    }\n\n    .dataframe tbody tr th {\n        vertical-align: top;\n    }\n\n    .dataframe thead th {\n        text-align: right;\n    }\n</style>\n<table border=\"1\" class=\"dataframe\">\n  <thead>\n    <tr style=\"text-align: right;\">\n      <th></th>\n      <th>ID</th>\n      <th>points</th>\n      <th>possessions</th>\n      <th>team_pace</th>\n      <th>GP</th>\n      <th>MPG</th>\n      <th>TS%</th>\n      <th>AST</th>\n      <th>TO</th>\n      <th>USG</th>\n      <th>ORR</th>\n      <th>DRR</th>\n      <th>REBR</th>\n      <th>PER</th>\n    </tr>\n  </thead>\n  <tbody>\n    <tr>\n      <th>0</th>\n      <td>1</td>\n      <td>1893.0</td>\n      <td>1251.8</td>\n      <td>97.8</td>\n      <td>63.0</td>\n      <td>33.9</td>\n      <td>0.569</td>\n      <td>17.2</td>\n      <td>11.5</td>\n      <td>26.1</td>\n      <td>4.7</td>\n      <td>23.3</td>\n      <td>7.8</td>\n      <td>10.90</td>\n    </tr>\n    <tr>\n      <th>1</th>\n      <td>2</td>\n      <td>1386.0</td>\n      <td>1282.5</td>\n      <td>110.5</td>\n      <td>58.0</td>\n      <td>32.5</td>\n      <td>0.511</td>\n      <td>24.8</td>\n      <td>9.7</td>\n      <td>26.9</td>\n      <td>6.1</td>\n      <td>0.9</td>\n      <td>10.7</td>\n      <td>27.30</td>\n    </tr>\n    <tr>\n      <th>2</th>\n      <td>3</td>\n      <td>1405.0</td>\n      <td>1252.3</td>\n      <td>105.8</td>\n      <td>55.0</td>\n      <td>36.3</td>\n      <td>0.605</td>\n      <td>25.7</td>\n      <td>13.9</td>\n      <td>28.1</td>\n      <td>4.5</td>\n      <td>4.9</td>\n      <td>1.8</td>\n      <td>NaN</td>\n    </tr>\n    <tr>\n      <th>3</th>\n      <td>4</td>\n      <td>1282.0</td>\n      <td>1235.9</td>\n      <td>100.7</td>\n      <td>54.0</td>\n      <td>37.6</td>\n      <td>0.636</td>\n      <td>29.5</td>\n      <td>11.0</td>\n      <td>22.3</td>\n      <td>4.8</td>\n      <td>4.6</td>\n      <td>5.6</td>\n      <td>22.35</td>\n    </tr>\n    <tr>\n      <th>4</th>\n      <td>5</td>\n      <td>1721.0</td>\n      <td>1254.0</td>\n      <td>105.7</td>\n      <td>59.0</td>\n      <td>30.5</td>\n      <td>0.589</td>\n      <td>22.8</td>\n      <td>9.9</td>\n      <td>24.6</td>\n      <td>1.2</td>\n      <td>8.4</td>\n      <td>12.1</td>\n      <td>28.38</td>\n    </tr>\n    <tr>\n      <th>5</th>\n      <td>6</td>\n      <td>1004.0</td>\n      <td>1322.4</td>\n      <td>102.1</td>\n      <td>57.0</td>\n      <td>36.3</td>\n      <td>0.574</td>\n      <td>20.3</td>\n      <td>13.5</td>\n      <td>31.0</td>\n      <td>1.2</td>\n      <td>20.5</td>\n      <td>3.4</td>\n      <td>9.83</td>\n    </tr>\n    <tr>\n      <th>6</th>\n      <td>7</td>\n      <td>1920.0</td>\n      <td>1207.6</td>\n      <td>109.8</td>\n      <td>55.0</td>\n      <td>37.0</td>\n      <td>0.573</td>\n      <td>26.0</td>\n      <td>13.1</td>\n      <td>30.7</td>\n      <td>0.0</td>\n      <td>10.3</td>\n      <td>-2.6</td>\n      <td>8.71</td>\n    </tr>\n    <tr>\n      <th>7</th>\n      <td>8</td>\n      <td>1353.0</td>\n      <td>1348.1</td>\n      <td>112.2</td>\n      <td>57.0</td>\n      <td>NaN</td>\n      <td>0.574</td>\n      <td>24.4</td>\n      <td>11.3</td>\n      <td>26.3</td>\n      <td>5.5</td>\n      <td>5.8</td>\n      <td>-2.2</td>\n      <td>NaN</td>\n    </tr>\n    <tr>\n      <th>8</th>\n      <td>10</td>\n      <td>1468.0</td>\n      <td>1400.9</td>\n      <td>93.7</td>\n      <td>61.0</td>\n      <td>35.6</td>\n      <td>0.547</td>\n      <td>22.9</td>\n      <td>12.2</td>\n      <td>22.7</td>\n      <td>5.8</td>\n      <td>6.4</td>\n      <td>-2.9</td>\n      <td>NaN</td>\n    </tr>\n    <tr>\n      <th>9</th>\n      <td>11</td>\n      <td>1856.0</td>\n      <td>1303.8</td>\n      <td>93.4</td>\n      <td>55.0</td>\n      <td>33.6</td>\n      <td>0.563</td>\n      <td>28.9</td>\n      <td>14.7</td>\n      <td>26.7</td>\n      <td>1.4</td>\n      <td>17.3</td>\n      <td>4.3</td>\n      <td>9.67</td>\n    </tr>\n    <tr>\n      <th>10</th>\n      <td>12</td>\n      <td>1058.0</td>\n      <td>1231.5</td>\n      <td>99.4</td>\n      <td>63.0</td>\n      <td>32.8</td>\n      <td>0.550</td>\n      <td>25.1</td>\n      <td>12.9</td>\n      <td>27.2</td>\n      <td>2.1</td>\n      <td>12.1</td>\n      <td>11.4</td>\n      <td>22.97</td>\n    </tr>\n    <tr>\n      <th>11</th>\n      <td>13</td>\n      <td>1452.0</td>\n      <td>1246.1</td>\n      <td>103.6</td>\n      <td>NaN</td>\n      <td>31.7</td>\n      <td>0.584</td>\n      <td>32.4</td>\n      <td>14.7</td>\n      <td>16.5</td>\n      <td>3.2</td>\n      <td>19.0</td>\n      <td>4.1</td>\n      <td>NaN</td>\n    </tr>\n    <tr>\n      <th>12</th>\n      <td>14</td>\n      <td>1438.0</td>\n      <td>1499.6</td>\n      <td>108.1</td>\n      <td>60.0</td>\n      <td>35.0</td>\n      <td>0.569</td>\n      <td>28.6</td>\n      <td>12.2</td>\n      <td>36.2</td>\n      <td>4.9</td>\n      <td>6.0</td>\n      <td>7.4</td>\n      <td>27.57</td>\n    </tr>\n    <tr>\n      <th>13</th>\n      <td>15</td>\n      <td>1782.0</td>\n      <td>1329.0</td>\n      <td>104.6</td>\n      <td>51.0</td>\n      <td>NaN</td>\n      <td>0.590</td>\n      <td>26.5</td>\n      <td>9.9</td>\n      <td>29.7</td>\n      <td>3.1</td>\n      <td>29.4</td>\n      <td>5.5</td>\n      <td>9.38</td>\n    </tr>\n    <tr>\n      <th>14</th>\n      <td>16</td>\n      <td>1276.0</td>\n      <td>1257.5</td>\n      <td>89.7</td>\n      <td>58.0</td>\n      <td>32.8</td>\n      <td>0.572</td>\n      <td>15.5</td>\n      <td>16.2</td>\n      <td>23.8</td>\n      <td>3.4</td>\n      <td>15.4</td>\n      <td>6.0</td>\n      <td>9.49</td>\n    </tr>\n    <tr>\n      <th>15</th>\n      <td>17</td>\n      <td>1486.0</td>\n      <td>1343.6</td>\n      <td>100.6</td>\n      <td>NaN</td>\n      <td>34.9</td>\n      <td>0.603</td>\n      <td>26.2</td>\n      <td>11.1</td>\n      <td>36.7</td>\n      <td>3.0</td>\n      <td>14.3</td>\n      <td>5.3</td>\n      <td>NaN</td>\n    </tr>\n    <tr>\n      <th>16</th>\n      <td>18</td>\n      <td>1326.0</td>\n      <td>1542.0</td>\n      <td>107.8</td>\n      <td>52.0</td>\n      <td>31.8</td>\n      <td>0.583</td>\n      <td>25.3</td>\n      <td>11.7</td>\n      <td>30.6</td>\n      <td>3.3</td>\n      <td>9.9</td>\n      <td>5.3</td>\n      <td>19.78</td>\n    </tr>\n    <tr>\n      <th>17</th>\n      <td>19</td>\n      <td>1535.0</td>\n      <td>1336.2</td>\n      <td>104.0</td>\n      <td>56.0</td>\n      <td>35.4</td>\n      <td>0.636</td>\n      <td>27.2</td>\n      <td>10.8</td>\n      <td>29.9</td>\n      <td>0.7</td>\n      <td>5.6</td>\n      <td>7.9</td>\n      <td>30.44</td>\n    </tr>\n    <tr>\n      <th>18</th>\n      <td>21</td>\n      <td>1276.0</td>\n      <td>1354.9</td>\n      <td>101.2</td>\n      <td>50.0</td>\n      <td>NaN</td>\n      <td>0.560</td>\n      <td>21.4</td>\n      <td>12.4</td>\n      <td>28.6</td>\n      <td>2.6</td>\n      <td>9.3</td>\n      <td>10.3</td>\n      <td>24.23</td>\n    </tr>\n    <tr>\n      <th>19</th>\n      <td>22</td>\n      <td>1784.0</td>\n      <td>1287.1</td>\n      <td>101.3</td>\n      <td>59.0</td>\n      <td>33.8</td>\n      <td>0.601</td>\n      <td>27.2</td>\n      <td>12.4</td>\n      <td>21.8</td>\n      <td>2.9</td>\n      <td>5.2</td>\n      <td>9.9</td>\n      <td>25.15</td>\n    </tr>\n    <tr>\n      <th>20</th>\n      <td>23</td>\n      <td>1729.0</td>\n      <td>1205.0</td>\n      <td>103.8</td>\n      <td>61.0</td>\n      <td>NaN</td>\n      <td>0.645</td>\n      <td>20.6</td>\n      <td>13.1</td>\n      <td>31.5</td>\n      <td>4.0</td>\n      <td>12.0</td>\n      <td>5.2</td>\n      <td>NaN</td>\n    </tr>\n    <tr>\n      <th>21</th>\n      <td>24</td>\n      <td>1639.0</td>\n      <td>1287.4</td>\n      <td>105.2</td>\n      <td>52.0</td>\n      <td>35.4</td>\n      <td>0.570</td>\n      <td>32.7</td>\n      <td>15.0</td>\n      <td>26.6</td>\n      <td>1.6</td>\n      <td>5.0</td>\n      <td>9.4</td>\n      <td>25.12</td>\n    </tr>\n    <tr>\n      <th>22</th>\n      <td>26</td>\n      <td>1370.0</td>\n      <td>1384.7</td>\n      <td>103.3</td>\n      <td>NaN</td>\n      <td>34.2</td>\n      <td>0.571</td>\n      <td>14.8</td>\n      <td>9.9</td>\n      <td>33.1</td>\n      <td>2.4</td>\n      <td>16.3</td>\n      <td>3.7</td>\n      <td>15.04</td>\n    </tr>\n    <tr>\n      <th>23</th>\n      <td>27</td>\n      <td>1497.0</td>\n      <td>1410.9</td>\n      <td>98.3</td>\n      <td>57.0</td>\n      <td>34.1</td>\n      <td>0.613</td>\n      <td>15.4</td>\n      <td>10.0</td>\n      <td>29.3</td>\n      <td>3.8</td>\n      <td>5.7</td>\n      <td>6.7</td>\n      <td>25.35</td>\n    </tr>\n    <tr>\n      <th>24</th>\n      <td>28</td>\n      <td>1313.0</td>\n      <td>1420.5</td>\n      <td>105.0</td>\n      <td>48.0</td>\n      <td>35.1</td>\n      <td>0.569</td>\n      <td>19.0</td>\n      <td>10.9</td>\n      <td>29.2</td>\n      <td>4.6</td>\n      <td>17.7</td>\n      <td>5.2</td>\n      <td>NaN</td>\n    </tr>\n    <tr>\n      <th>25</th>\n      <td>29</td>\n      <td>1464.0</td>\n      <td>1353.4</td>\n      <td>103.3</td>\n      <td>63.0</td>\n      <td>34.4</td>\n      <td>0.595</td>\n      <td>17.9</td>\n      <td>9.2</td>\n      <td>29.3</td>\n      <td>1.0</td>\n      <td>8.7</td>\n      <td>4.1</td>\n      <td>20.49</td>\n    </tr>\n    <tr>\n      <th>26</th>\n      <td>31</td>\n      <td>2049.0</td>\n      <td>1434.0</td>\n      <td>110.0</td>\n      <td>64.0</td>\n      <td>38.8</td>\n      <td>0.619</td>\n      <td>31.5</td>\n      <td>14.9</td>\n      <td>35.5</td>\n      <td>8.3</td>\n      <td>17.6</td>\n      <td>12.8</td>\n      <td>28.44</td>\n    </tr>\n    <tr>\n      <th>27</th>\n      <td>32</td>\n      <td>1795.0</td>\n      <td>1481.8</td>\n      <td>112.1</td>\n      <td>62.0</td>\n      <td>35.4</td>\n      <td>0.608</td>\n      <td>31.9</td>\n      <td>14.5</td>\n      <td>32.0</td>\n      <td>6.5</td>\n      <td>22.5</td>\n      <td>12.9</td>\n      <td>23.34</td>\n    </tr>\n    <tr>\n      <th>28</th>\n      <td>33</td>\n      <td>1805.0</td>\n      <td>1509.9</td>\n      <td>108.6</td>\n      <td>64.0</td>\n      <td>35.4</td>\n      <td>0.622</td>\n      <td>27.9</td>\n      <td>13.9</td>\n      <td>36.0</td>\n      <td>5.9</td>\n      <td>27.7</td>\n      <td>12.2</td>\n      <td>22.41</td>\n    </tr>\n    <tr>\n      <th>29</th>\n      <td>34</td>\n      <td>1743.0</td>\n      <td>1422.4</td>\n      <td>112.9</td>\n      <td>64.0</td>\n      <td>36.3</td>\n      <td>0.619</td>\n      <td>30.9</td>\n      <td>15.6</td>\n      <td>34.5</td>\n      <td>5.9</td>\n      <td>18.9</td>\n      <td>14.8</td>\n      <td>NaN</td>\n    </tr>\n    <tr>\n      <th>30</th>\n      <td>35</td>\n      <td>1963.0</td>\n      <td>1539.1</td>\n      <td>117.4</td>\n      <td>NaN</td>\n      <td>NaN</td>\n      <td>0.633</td>\n      <td>32.3</td>\n      <td>16.2</td>\n      <td>34.0</td>\n      <td>5.9</td>\n      <td>19.8</td>\n      <td>13.1</td>\n      <td>27.16</td>\n    </tr>\n    <tr>\n      <th>31</th>\n      <td>36</td>\n      <td>2062.0</td>\n      <td>1505.7</td>\n      <td>111.5</td>\n      <td>NaN</td>\n      <td>37.0</td>\n      <td>0.620</td>\n      <td>29.8</td>\n      <td>15.6</td>\n      <td>36.2</td>\n      <td>4.9</td>\n      <td>23.9</td>\n      <td>14.7</td>\n      <td>27.86</td>\n    </tr>\n    <tr>\n      <th>32</th>\n      <td>37</td>\n      <td>1845.0</td>\n      <td>1435.7</td>\n      <td>113.1</td>\n      <td>69.0</td>\n      <td>36.9</td>\n      <td>0.634</td>\n      <td>33.2</td>\n      <td>14.0</td>\n      <td>36.5</td>\n      <td>4.1</td>\n      <td>21.5</td>\n      <td>16.4</td>\n      <td>34.26</td>\n    </tr>\n    <tr>\n      <th>33</th>\n      <td>38</td>\n      <td>1778.0</td>\n      <td>1526.4</td>\n      <td>109.3</td>\n      <td>66.0</td>\n      <td>34.9</td>\n      <td>0.612</td>\n      <td>30.6</td>\n      <td>15.9</td>\n      <td>35.9</td>\n      <td>5.5</td>\n      <td>18.8</td>\n      <td>13.7</td>\n      <td>28.65</td>\n    </tr>\n    <tr>\n      <th>34</th>\n      <td>39</td>\n      <td>1901.0</td>\n      <td>1444.1</td>\n      <td>109.7</td>\n      <td>67.0</td>\n      <td>36.5</td>\n      <td>0.609</td>\n      <td>27.2</td>\n      <td>14.8</td>\n      <td>35.5</td>\n      <td>5.0</td>\n      <td>21.8</td>\n      <td>8.9</td>\n      <td>20.12</td>\n    </tr>\n    <tr>\n      <th>35</th>\n      <td>40</td>\n      <td>183.0</td>\n      <td>147.3</td>\n      <td>118.1</td>\n      <td>63.0</td>\n      <td>37.5</td>\n      <td>0.623</td>\n      <td>31.2</td>\n      <td>13.5</td>\n      <td>34.7</td>\n      <td>6.3</td>\n      <td>18.7</td>\n      <td>13.6</td>\n      <td>29.81</td>\n    </tr>\n    <tr>\n      <th>36</th>\n      <td>41</td>\n      <td>2030.0</td>\n      <td>1431.0</td>\n      <td>112.3</td>\n      <td>68.0</td>\n      <td>37.0</td>\n      <td>0.618</td>\n      <td>32.5</td>\n      <td>15.3</td>\n      <td>34.5</td>\n      <td>5.7</td>\n      <td>15.7</td>\n      <td>13.2</td>\n      <td>30.07</td>\n    </tr>\n    <tr>\n      <th>37</th>\n      <td>42</td>\n      <td>1631.0</td>\n      <td>1465.7</td>\n      <td>110.1</td>\n      <td>66.0</td>\n      <td>37.5</td>\n      <td>0.613</td>\n      <td>28.4</td>\n      <td>14.4</td>\n      <td>35.7</td>\n      <td>6.5</td>\n      <td>20.7</td>\n      <td>14.0</td>\n      <td>28.40</td>\n    </tr>\n    <tr>\n      <th>38</th>\n      <td>43</td>\n      <td>1828.0</td>\n      <td>1507.2</td>\n      <td>112.7</td>\n      <td>64.0</td>\n      <td>36.5</td>\n      <td>0.618</td>\n      <td>31.3</td>\n      <td>14.0</td>\n      <td>34.9</td>\n      <td>5.9</td>\n      <td>21.3</td>\n      <td>14.5</td>\n      <td>NaN</td>\n    </tr>\n    <tr>\n      <th>39</th>\n      <td>44</td>\n      <td>1821.0</td>\n      <td>1443.7</td>\n      <td>118.8</td>\n      <td>66.0</td>\n      <td>36.6</td>\n      <td>0.609</td>\n      <td>27.3</td>\n      <td>13.5</td>\n      <td>35.8</td>\n      <td>7.0</td>\n      <td>23.8</td>\n      <td>11.5</td>\n      <td>22.96</td>\n    </tr>\n    <tr>\n      <th>40</th>\n      <td>45</td>\n      <td>1740.0</td>\n      <td>1443.9</td>\n      <td>114.1</td>\n      <td>68.0</td>\n      <td>37.1</td>\n      <td>0.611</td>\n      <td>26.6</td>\n      <td>15.2</td>\n      <td>29.3</td>\n      <td>8.3</td>\n      <td>17.7</td>\n      <td>11.1</td>\n      <td>21.22</td>\n    </tr>\n    <tr>\n      <th>41</th>\n      <td>46</td>\n      <td>1993.0</td>\n      <td>1459.0</td>\n      <td>112.5</td>\n      <td>NaN</td>\n      <td>36.9</td>\n      <td>0.627</td>\n      <td>30.4</td>\n      <td>15.0</td>\n      <td>33.7</td>\n      <td>6.3</td>\n      <td>19.3</td>\n      <td>14.1</td>\n      <td>28.76</td>\n    </tr>\n  </tbody>\n</table>\n</div>"
     },
     "metadata": {},
     "execution_count": 9
    }
   ],
   "source": [
    "player_df.reset_index(drop=True, inplace=True)\n",
    "player_df"
   ]
  },
  {
   "cell_type": "code",
   "execution_count": null,
   "metadata": {},
   "outputs": [],
   "source": []
  }
 ]
}